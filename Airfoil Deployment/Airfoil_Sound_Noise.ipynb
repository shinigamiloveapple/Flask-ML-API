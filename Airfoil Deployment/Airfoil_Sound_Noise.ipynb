{
  "nbformat": 4,
  "nbformat_minor": 0,
  "metadata": {
    "colab": {
      "name": "Airfoil Sound-Noise",
      "provenance": []
    },
    "kernelspec": {
      "name": "python3",
      "display_name": "Python 3"
    }
  },
  "cells": [
    {
      "cell_type": "markdown",
      "metadata": {
        "id": "NNHth-sXvGdL",
        "colab_type": "text"
      },
      "source": [
        "#Overview\n",
        "\n",
        "The NASA data set comprises different size NACA 0012 airfoils at various wind tunnel speeds and angles of attack. The span of the airfoil and the observer position were the same in all of the experiments.\n",
        "\n",
        "We need to predict the scaled sound pressure level in decibels.\n",
        "\n",
        "---\n",
        "\n",
        "\n",
        "**This problem has the following inputs:**\n",
        "\n",
        "1. Frequency, in Hertzs.\n",
        "2. Angle of attack, in degrees.\n",
        "3. Chord length, in meters.\n",
        "4. Free-stream velocity, in meters per second.\n",
        "5. Suction side displacement thickness, in meters."
      ]
    },
    {
      "cell_type": "markdown",
      "metadata": {
        "id": "tdCTACvO2wvR",
        "colab_type": "text"
      },
      "source": [
        "#Importing Libraries"
      ]
    },
    {
      "cell_type": "code",
      "metadata": {
        "id": "5HXr52Aza2Rj",
        "colab_type": "code",
        "colab": {}
      },
      "source": [
        "import pandas as pd\n",
        "from sklearn.linear_model import LinearRegression\n",
        "from sklearn.metrics import mean_absolute_error\n",
        "import pickle\n",
        "from sklearn.model_selection import train_test_split"
      ],
      "execution_count": 0,
      "outputs": []
    },
    {
      "cell_type": "markdown",
      "metadata": {
        "id": "tDXPCTrH204J",
        "colab_type": "text"
      },
      "source": [
        "#Reading Dataframe"
      ]
    },
    {
      "cell_type": "code",
      "metadata": {
        "id": "NkREYQF5bGBS",
        "colab_type": "code",
        "colab": {}
      },
      "source": [
        "df = pd.read_csv('NASA_airfoil_self_noise.csv')"
      ],
      "execution_count": 0,
      "outputs": []
    },
    {
      "cell_type": "code",
      "metadata": {
        "id": "esj-0KyVcFFN",
        "colab_type": "code",
        "colab": {
          "base_uri": "https://localhost:8080/",
          "height": 197
        },
        "outputId": "2b22d940-1d32-4ab6-8725-a9eb6db07148"
      },
      "source": [
        "df.head(5)"
      ],
      "execution_count": 14,
      "outputs": [
        {
          "output_type": "execute_result",
          "data": {
            "text/html": [
              "<div>\n",
              "<style scoped>\n",
              "    .dataframe tbody tr th:only-of-type {\n",
              "        vertical-align: middle;\n",
              "    }\n",
              "\n",
              "    .dataframe tbody tr th {\n",
              "        vertical-align: top;\n",
              "    }\n",
              "\n",
              "    .dataframe thead th {\n",
              "        text-align: right;\n",
              "    }\n",
              "</style>\n",
              "<table border=\"1\" class=\"dataframe\">\n",
              "  <thead>\n",
              "    <tr style=\"text-align: right;\">\n",
              "      <th></th>\n",
              "      <th>Frequency</th>\n",
              "      <th>AngleAttack</th>\n",
              "      <th>ChordLength</th>\n",
              "      <th>FreeStreamVelocity</th>\n",
              "      <th>SuctionSide</th>\n",
              "      <th>Sound</th>\n",
              "    </tr>\n",
              "  </thead>\n",
              "  <tbody>\n",
              "    <tr>\n",
              "      <th>0</th>\n",
              "      <td>800</td>\n",
              "      <td>0.0</td>\n",
              "      <td>0.3048</td>\n",
              "      <td>71.3</td>\n",
              "      <td>0.002663</td>\n",
              "      <td>126.201</td>\n",
              "    </tr>\n",
              "    <tr>\n",
              "      <th>1</th>\n",
              "      <td>1000</td>\n",
              "      <td>0.0</td>\n",
              "      <td>0.3048</td>\n",
              "      <td>71.3</td>\n",
              "      <td>0.002663</td>\n",
              "      <td>125.201</td>\n",
              "    </tr>\n",
              "    <tr>\n",
              "      <th>2</th>\n",
              "      <td>1250</td>\n",
              "      <td>0.0</td>\n",
              "      <td>0.3048</td>\n",
              "      <td>71.3</td>\n",
              "      <td>0.002663</td>\n",
              "      <td>125.951</td>\n",
              "    </tr>\n",
              "    <tr>\n",
              "      <th>3</th>\n",
              "      <td>1600</td>\n",
              "      <td>0.0</td>\n",
              "      <td>0.3048</td>\n",
              "      <td>71.3</td>\n",
              "      <td>0.002663</td>\n",
              "      <td>127.591</td>\n",
              "    </tr>\n",
              "    <tr>\n",
              "      <th>4</th>\n",
              "      <td>2000</td>\n",
              "      <td>0.0</td>\n",
              "      <td>0.3048</td>\n",
              "      <td>71.3</td>\n",
              "      <td>0.002663</td>\n",
              "      <td>127.461</td>\n",
              "    </tr>\n",
              "  </tbody>\n",
              "</table>\n",
              "</div>"
            ],
            "text/plain": [
              "   Frequency  AngleAttack  ...  SuctionSide    Sound\n",
              "0        800          0.0  ...     0.002663  126.201\n",
              "1       1000          0.0  ...     0.002663  125.201\n",
              "2       1250          0.0  ...     0.002663  125.951\n",
              "3       1600          0.0  ...     0.002663  127.591\n",
              "4       2000          0.0  ...     0.002663  127.461\n",
              "\n",
              "[5 rows x 6 columns]"
            ]
          },
          "metadata": {
            "tags": []
          },
          "execution_count": 14
        }
      ]
    },
    {
      "cell_type": "markdown",
      "metadata": {
        "id": "TIaJYLT6268q",
        "colab_type": "text"
      },
      "source": [
        "#Basic Data Infromation"
      ]
    },
    {
      "cell_type": "code",
      "metadata": {
        "id": "BvkR8vg1fCMw",
        "colab_type": "code",
        "colab": {
          "base_uri": "https://localhost:8080/",
          "height": 247
        },
        "outputId": "ee1fe9a4-885d-44c0-c0be-76c722c0c540"
      },
      "source": [
        "df.info()"
      ],
      "execution_count": 15,
      "outputs": [
        {
          "output_type": "stream",
          "text": [
            "<class 'pandas.core.frame.DataFrame'>\n",
            "RangeIndex: 1503 entries, 0 to 1502\n",
            "Data columns (total 6 columns):\n",
            " #   Column              Non-Null Count  Dtype  \n",
            "---  ------              --------------  -----  \n",
            " 0   Frequency           1503 non-null   int64  \n",
            " 1   AngleAttack         1503 non-null   float64\n",
            " 2   ChordLength         1503 non-null   float64\n",
            " 3   FreeStreamVelocity  1503 non-null   float64\n",
            " 4   SuctionSide         1503 non-null   float64\n",
            " 5   Sound               1503 non-null   float64\n",
            "dtypes: float64(5), int64(1)\n",
            "memory usage: 70.6 KB\n"
          ],
          "name": "stdout"
        }
      ]
    },
    {
      "cell_type": "code",
      "metadata": {
        "id": "nfro3lx3fFy5",
        "colab_type": "code",
        "colab": {
          "base_uri": "https://localhost:8080/",
          "height": 227
        },
        "outputId": "a246e4b9-a20c-41a7-a89f-19788d9d67a8"
      },
      "source": [
        "df.describe().T"
      ],
      "execution_count": 17,
      "outputs": [
        {
          "output_type": "execute_result",
          "data": {
            "text/html": [
              "<div>\n",
              "<style scoped>\n",
              "    .dataframe tbody tr th:only-of-type {\n",
              "        vertical-align: middle;\n",
              "    }\n",
              "\n",
              "    .dataframe tbody tr th {\n",
              "        vertical-align: top;\n",
              "    }\n",
              "\n",
              "    .dataframe thead th {\n",
              "        text-align: right;\n",
              "    }\n",
              "</style>\n",
              "<table border=\"1\" class=\"dataframe\">\n",
              "  <thead>\n",
              "    <tr style=\"text-align: right;\">\n",
              "      <th></th>\n",
              "      <th>count</th>\n",
              "      <th>mean</th>\n",
              "      <th>std</th>\n",
              "      <th>min</th>\n",
              "      <th>25%</th>\n",
              "      <th>50%</th>\n",
              "      <th>75%</th>\n",
              "      <th>max</th>\n",
              "    </tr>\n",
              "  </thead>\n",
              "  <tbody>\n",
              "    <tr>\n",
              "      <th>Frequency</th>\n",
              "      <td>1503.0</td>\n",
              "      <td>2886.380572</td>\n",
              "      <td>3152.573137</td>\n",
              "      <td>200.000000</td>\n",
              "      <td>800.000000</td>\n",
              "      <td>1600.000000</td>\n",
              "      <td>4000.000000</td>\n",
              "      <td>20000.000000</td>\n",
              "    </tr>\n",
              "    <tr>\n",
              "      <th>AngleAttack</th>\n",
              "      <td>1503.0</td>\n",
              "      <td>6.782302</td>\n",
              "      <td>5.918128</td>\n",
              "      <td>0.000000</td>\n",
              "      <td>2.000000</td>\n",
              "      <td>5.400000</td>\n",
              "      <td>9.900000</td>\n",
              "      <td>22.200000</td>\n",
              "    </tr>\n",
              "    <tr>\n",
              "      <th>ChordLength</th>\n",
              "      <td>1503.0</td>\n",
              "      <td>0.136548</td>\n",
              "      <td>0.093541</td>\n",
              "      <td>0.025400</td>\n",
              "      <td>0.050800</td>\n",
              "      <td>0.101600</td>\n",
              "      <td>0.228600</td>\n",
              "      <td>0.304800</td>\n",
              "    </tr>\n",
              "    <tr>\n",
              "      <th>FreeStreamVelocity</th>\n",
              "      <td>1503.0</td>\n",
              "      <td>50.860745</td>\n",
              "      <td>15.572784</td>\n",
              "      <td>31.700000</td>\n",
              "      <td>39.600000</td>\n",
              "      <td>39.600000</td>\n",
              "      <td>71.300000</td>\n",
              "      <td>71.300000</td>\n",
              "    </tr>\n",
              "    <tr>\n",
              "      <th>SuctionSide</th>\n",
              "      <td>1503.0</td>\n",
              "      <td>0.011140</td>\n",
              "      <td>0.013150</td>\n",
              "      <td>0.000401</td>\n",
              "      <td>0.002535</td>\n",
              "      <td>0.004957</td>\n",
              "      <td>0.015576</td>\n",
              "      <td>0.058411</td>\n",
              "    </tr>\n",
              "    <tr>\n",
              "      <th>Sound</th>\n",
              "      <td>1503.0</td>\n",
              "      <td>124.835943</td>\n",
              "      <td>6.898657</td>\n",
              "      <td>103.380000</td>\n",
              "      <td>120.191000</td>\n",
              "      <td>125.721000</td>\n",
              "      <td>129.995500</td>\n",
              "      <td>140.987000</td>\n",
              "    </tr>\n",
              "  </tbody>\n",
              "</table>\n",
              "</div>"
            ],
            "text/plain": [
              "                     count         mean  ...          75%           max\n",
              "Frequency           1503.0  2886.380572  ...  4000.000000  20000.000000\n",
              "AngleAttack         1503.0     6.782302  ...     9.900000     22.200000\n",
              "ChordLength         1503.0     0.136548  ...     0.228600      0.304800\n",
              "FreeStreamVelocity  1503.0    50.860745  ...    71.300000     71.300000\n",
              "SuctionSide         1503.0     0.011140  ...     0.015576      0.058411\n",
              "Sound               1503.0   124.835943  ...   129.995500    140.987000\n",
              "\n",
              "[6 rows x 8 columns]"
            ]
          },
          "metadata": {
            "tags": []
          },
          "execution_count": 17
        }
      ]
    },
    {
      "cell_type": "code",
      "metadata": {
        "id": "S2KDbf2IfOuy",
        "colab_type": "code",
        "colab": {
          "base_uri": "https://localhost:8080/",
          "height": 227
        },
        "outputId": "26e3e0ff-dc5d-43ac-fd3a-b9b6129ec773"
      },
      "source": [
        "df.corr()"
      ],
      "execution_count": 18,
      "outputs": [
        {
          "output_type": "execute_result",
          "data": {
            "text/html": [
              "<div>\n",
              "<style scoped>\n",
              "    .dataframe tbody tr th:only-of-type {\n",
              "        vertical-align: middle;\n",
              "    }\n",
              "\n",
              "    .dataframe tbody tr th {\n",
              "        vertical-align: top;\n",
              "    }\n",
              "\n",
              "    .dataframe thead th {\n",
              "        text-align: right;\n",
              "    }\n",
              "</style>\n",
              "<table border=\"1\" class=\"dataframe\">\n",
              "  <thead>\n",
              "    <tr style=\"text-align: right;\">\n",
              "      <th></th>\n",
              "      <th>Frequency</th>\n",
              "      <th>AngleAttack</th>\n",
              "      <th>ChordLength</th>\n",
              "      <th>FreeStreamVelocity</th>\n",
              "      <th>SuctionSide</th>\n",
              "      <th>Sound</th>\n",
              "    </tr>\n",
              "  </thead>\n",
              "  <tbody>\n",
              "    <tr>\n",
              "      <th>Frequency</th>\n",
              "      <td>1.000000</td>\n",
              "      <td>-0.272765</td>\n",
              "      <td>-0.003661</td>\n",
              "      <td>0.133664</td>\n",
              "      <td>-0.230107</td>\n",
              "      <td>-0.390711</td>\n",
              "    </tr>\n",
              "    <tr>\n",
              "      <th>AngleAttack</th>\n",
              "      <td>-0.272765</td>\n",
              "      <td>1.000000</td>\n",
              "      <td>-0.504868</td>\n",
              "      <td>0.058760</td>\n",
              "      <td>0.753394</td>\n",
              "      <td>-0.156108</td>\n",
              "    </tr>\n",
              "    <tr>\n",
              "      <th>ChordLength</th>\n",
              "      <td>-0.003661</td>\n",
              "      <td>-0.504868</td>\n",
              "      <td>1.000000</td>\n",
              "      <td>0.003787</td>\n",
              "      <td>-0.220842</td>\n",
              "      <td>-0.236162</td>\n",
              "    </tr>\n",
              "    <tr>\n",
              "      <th>FreeStreamVelocity</th>\n",
              "      <td>0.133664</td>\n",
              "      <td>0.058760</td>\n",
              "      <td>0.003787</td>\n",
              "      <td>1.000000</td>\n",
              "      <td>-0.003974</td>\n",
              "      <td>0.125103</td>\n",
              "    </tr>\n",
              "    <tr>\n",
              "      <th>SuctionSide</th>\n",
              "      <td>-0.230107</td>\n",
              "      <td>0.753394</td>\n",
              "      <td>-0.220842</td>\n",
              "      <td>-0.003974</td>\n",
              "      <td>1.000000</td>\n",
              "      <td>-0.312670</td>\n",
              "    </tr>\n",
              "    <tr>\n",
              "      <th>Sound</th>\n",
              "      <td>-0.390711</td>\n",
              "      <td>-0.156108</td>\n",
              "      <td>-0.236162</td>\n",
              "      <td>0.125103</td>\n",
              "      <td>-0.312670</td>\n",
              "      <td>1.000000</td>\n",
              "    </tr>\n",
              "  </tbody>\n",
              "</table>\n",
              "</div>"
            ],
            "text/plain": [
              "                    Frequency  AngleAttack  ...  SuctionSide     Sound\n",
              "Frequency            1.000000    -0.272765  ...    -0.230107 -0.390711\n",
              "AngleAttack         -0.272765     1.000000  ...     0.753394 -0.156108\n",
              "ChordLength         -0.003661    -0.504868  ...    -0.220842 -0.236162\n",
              "FreeStreamVelocity   0.133664     0.058760  ...    -0.003974  0.125103\n",
              "SuctionSide         -0.230107     0.753394  ...     1.000000 -0.312670\n",
              "Sound               -0.390711    -0.156108  ...    -0.312670  1.000000\n",
              "\n",
              "[6 rows x 6 columns]"
            ]
          },
          "metadata": {
            "tags": []
          },
          "execution_count": 18
        }
      ]
    },
    {
      "cell_type": "code",
      "metadata": {
        "id": "aDMUe6mEfVi-",
        "colab_type": "code",
        "colab": {
          "base_uri": "https://localhost:8080/",
          "height": 141
        },
        "outputId": "3656da04-1e48-46db-e5f6-eb055b411291"
      },
      "source": [
        "df.isnull().sum()"
      ],
      "execution_count": 20,
      "outputs": [
        {
          "output_type": "execute_result",
          "data": {
            "text/plain": [
              "Frequency             0\n",
              "AngleAttack           0\n",
              "ChordLength           0\n",
              "FreeStreamVelocity    0\n",
              "SuctionSide           0\n",
              "Sound                 0\n",
              "dtype: int64"
            ]
          },
          "metadata": {
            "tags": []
          },
          "execution_count": 20
        }
      ]
    },
    {
      "cell_type": "markdown",
      "metadata": {
        "id": "YL6qxw9r2_TU",
        "colab_type": "text"
      },
      "source": [
        "#Train & Test Split"
      ]
    },
    {
      "cell_type": "code",
      "metadata": {
        "id": "oc5aS4GLfZ6P",
        "colab_type": "code",
        "colab": {}
      },
      "source": [
        "X = df.drop('Sound', axis=1)\n",
        "y = df['Sound']"
      ],
      "execution_count": 0,
      "outputs": []
    },
    {
      "cell_type": "code",
      "metadata": {
        "id": "9T77lKI9gFqF",
        "colab_type": "code",
        "colab": {}
      },
      "source": [
        "X_train, X_test, y_train, y_test = train_test_split(X, y, test_size=0.25, random_state=40)"
      ],
      "execution_count": 0,
      "outputs": []
    },
    {
      "cell_type": "code",
      "metadata": {
        "id": "cDru6eVjfuJk",
        "colab_type": "code",
        "colab": {
          "base_uri": "https://localhost:8080/",
          "height": 52
        },
        "outputId": "1378e28b-4cf2-4c33-fca0-65605dd7d170"
      },
      "source": [
        "print(\"Size of train data : \", X_train.shape)\n",
        "print(\"Size of test data : \", X_test.shape)"
      ],
      "execution_count": 26,
      "outputs": [
        {
          "output_type": "stream",
          "text": [
            "Size of train data :  (1127, 5)\n",
            "Size of test data :  (376, 5)\n"
          ],
          "name": "stdout"
        }
      ]
    },
    {
      "cell_type": "markdown",
      "metadata": {
        "id": "q3IzmsOO3Dq3",
        "colab_type": "text"
      },
      "source": [
        "#Model Training"
      ]
    },
    {
      "cell_type": "code",
      "metadata": {
        "id": "u_KoalfxgUEm",
        "colab_type": "code",
        "colab": {}
      },
      "source": [
        "#Fitting X_train and y_train in Linear Regression Model\n",
        "lr = LinearRegression().fit(X_train, y_train)"
      ],
      "execution_count": 0,
      "outputs": []
    },
    {
      "cell_type": "code",
      "metadata": {
        "id": "WVHxYiMZiVkq",
        "colab_type": "code",
        "colab": {}
      },
      "source": [
        "#Dumping the Model using Pickle for later process like making API \n",
        "pickle.dump(lr, open('airfoil_model.pkl', 'wb'))"
      ],
      "execution_count": 0,
      "outputs": []
    },
    {
      "cell_type": "markdown",
      "metadata": {
        "id": "ZqVFZqsM3cVS",
        "colab_type": "text"
      },
      "source": [
        "#Model Prediciton & Evalutaion"
      ]
    },
    {
      "cell_type": "code",
      "metadata": {
        "id": "hzacFlD-gnnw",
        "colab_type": "code",
        "colab": {}
      },
      "source": [
        "predictions = lr.predict(X_test)"
      ],
      "execution_count": 0,
      "outputs": []
    },
    {
      "cell_type": "code",
      "metadata": {
        "id": "j_BKUjzrgoXr",
        "colab_type": "code",
        "colab": {
          "base_uri": "https://localhost:8080/",
          "height": 34
        },
        "outputId": "91be4be0-75d4-4079-aafc-53d681900d65"
      },
      "source": [
        "mae = mean_absolute_error(predictions, y_test)\n",
        "\n",
        "print(\"Mean Absolute Error :\", round(mae, 2))"
      ],
      "execution_count": 30,
      "outputs": [
        {
          "output_type": "stream",
          "text": [
            "Mean Absolute Error : 3.95\n"
          ],
          "name": "stdout"
        }
      ]
    }
  ]
}